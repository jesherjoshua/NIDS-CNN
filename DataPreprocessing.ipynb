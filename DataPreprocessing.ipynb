{
 "cells": [
  {
   "cell_type": "code",
   "execution_count": 81,
   "metadata": {},
   "outputs": [],
   "source": [
    "import numpy as np \n",
    "import pandas as pd\n",
    "import seaborn as sns\n",
    "from sklearn.preprocessing import MinMaxScaler\n",
    "from sklearn.model_selection import train_test_split\n",
    "import matplotlib.pyplot as plt"
   ]
  },
  {
   "cell_type": "code",
   "execution_count": 82,
   "metadata": {},
   "outputs": [],
   "source": [
    "df=pd.read_excel('./ECU_IoHT.xlsx')"
   ]
  },
  {
   "cell_type": "code",
   "execution_count": 83,
   "metadata": {},
   "outputs": [
    {
     "data": {
      "text/html": [
       "<div>\n",
       "<style scoped>\n",
       "    .dataframe tbody tr th:only-of-type {\n",
       "        vertical-align: middle;\n",
       "    }\n",
       "\n",
       "    .dataframe tbody tr th {\n",
       "        vertical-align: top;\n",
       "    }\n",
       "\n",
       "    .dataframe thead th {\n",
       "        text-align: right;\n",
       "    }\n",
       "</style>\n",
       "<table border=\"1\" class=\"dataframe\">\n",
       "  <thead>\n",
       "    <tr style=\"text-align: right;\">\n",
       "      <th></th>\n",
       "      <th>No.</th>\n",
       "      <th>Time</th>\n",
       "      <th>Source</th>\n",
       "      <th>Destination</th>\n",
       "      <th>Protocol</th>\n",
       "      <th>Length</th>\n",
       "      <th>Info</th>\n",
       "      <th>Type</th>\n",
       "      <th>Type of attack</th>\n",
       "    </tr>\n",
       "  </thead>\n",
       "  <tbody>\n",
       "    <tr>\n",
       "      <th>0</th>\n",
       "      <td>1</td>\n",
       "      <td>0.000000</td>\n",
       "      <td>Alfa_97:cf:63</td>\n",
       "      <td>Broadcast</td>\n",
       "      <td>ARP</td>\n",
       "      <td>42</td>\n",
       "      <td>Who has 192.168.43.1? Tell 192.168.43.186</td>\n",
       "      <td>Attack</td>\n",
       "      <td>ARP Spoofing</td>\n",
       "    </tr>\n",
       "    <tr>\n",
       "      <th>1</th>\n",
       "      <td>2</td>\n",
       "      <td>0.002956</td>\n",
       "      <td>6e:c7:ec:3c:f2:ba</td>\n",
       "      <td>Alfa_97:cf:63</td>\n",
       "      <td>ARP</td>\n",
       "      <td>42</td>\n",
       "      <td>192.168.43.1 is at 6e:c7:ec:3c:f2:ba</td>\n",
       "      <td>Attack</td>\n",
       "      <td>ARP Spoofing</td>\n",
       "    </tr>\n",
       "    <tr>\n",
       "      <th>2</th>\n",
       "      <td>3</td>\n",
       "      <td>0.200725</td>\n",
       "      <td>Alfa_97:cf:63</td>\n",
       "      <td>Broadcast</td>\n",
       "      <td>ARP</td>\n",
       "      <td>42</td>\n",
       "      <td>Who has 192.168.43.1? Tell 192.168.43.186</td>\n",
       "      <td>Attack</td>\n",
       "      <td>ARP Spoofing</td>\n",
       "    </tr>\n",
       "    <tr>\n",
       "      <th>3</th>\n",
       "      <td>4</td>\n",
       "      <td>0.202713</td>\n",
       "      <td>192.168.43.186</td>\n",
       "      <td>192.168.43.1</td>\n",
       "      <td>DNS</td>\n",
       "      <td>85</td>\n",
       "      <td>Standard query 0x0c44 PTR 1.43.168.192.in-addr...</td>\n",
       "      <td>Normal</td>\n",
       "      <td>No Attack</td>\n",
       "    </tr>\n",
       "    <tr>\n",
       "      <th>4</th>\n",
       "      <td>5</td>\n",
       "      <td>0.411565</td>\n",
       "      <td>6e:c7:ec:3c:f2:ba</td>\n",
       "      <td>Alfa_97:cf:63</td>\n",
       "      <td>ARP</td>\n",
       "      <td>42</td>\n",
       "      <td>192.168.43.1 is at 6e:c7:ec:3c:f2:ba</td>\n",
       "      <td>Attack</td>\n",
       "      <td>ARP Spoofing</td>\n",
       "    </tr>\n",
       "    <tr>\n",
       "      <th>5</th>\n",
       "      <td>6</td>\n",
       "      <td>0.431963</td>\n",
       "      <td>192.168.43.1</td>\n",
       "      <td>192.168.43.186</td>\n",
       "      <td>DNS</td>\n",
       "      <td>144</td>\n",
       "      <td>Standard query response 0x0c44 No such name PT...</td>\n",
       "      <td>Normal</td>\n",
       "      <td>No Attack</td>\n",
       "    </tr>\n",
       "    <tr>\n",
       "      <th>6</th>\n",
       "      <td>7</td>\n",
       "      <td>0.433064</td>\n",
       "      <td>192.168.43.186</td>\n",
       "      <td>192.168.43.1</td>\n",
       "      <td>TCP</td>\n",
       "      <td>58</td>\n",
       "      <td>36954  &gt;  1720 [SYN] Seq=0 Win=1024 Len=0 MSS=...</td>\n",
       "      <td>Normal</td>\n",
       "      <td>No Attack</td>\n",
       "    </tr>\n",
       "    <tr>\n",
       "      <th>7</th>\n",
       "      <td>8</td>\n",
       "      <td>0.433084</td>\n",
       "      <td>192.168.43.186</td>\n",
       "      <td>192.168.43.1</td>\n",
       "      <td>TCP</td>\n",
       "      <td>58</td>\n",
       "      <td>36954  &gt;  5900 [SYN] Seq=0 Win=1024 Len=0 MSS=...</td>\n",
       "      <td>Normal</td>\n",
       "      <td>No Attack</td>\n",
       "    </tr>\n",
       "    <tr>\n",
       "      <th>8</th>\n",
       "      <td>9</td>\n",
       "      <td>0.433089</td>\n",
       "      <td>192.168.43.186</td>\n",
       "      <td>192.168.43.1</td>\n",
       "      <td>TCP</td>\n",
       "      <td>58</td>\n",
       "      <td>36954  &gt;  135 [SYN] Seq=0 Win=1024 Len=0 MSS=1460</td>\n",
       "      <td>Normal</td>\n",
       "      <td>No Attack</td>\n",
       "    </tr>\n",
       "    <tr>\n",
       "      <th>9</th>\n",
       "      <td>10</td>\n",
       "      <td>0.433092</td>\n",
       "      <td>192.168.43.186</td>\n",
       "      <td>192.168.43.1</td>\n",
       "      <td>TCP</td>\n",
       "      <td>58</td>\n",
       "      <td>36954  &gt;  143 [SYN] Seq=0 Win=1024 Len=0 MSS=1460</td>\n",
       "      <td>Normal</td>\n",
       "      <td>No Attack</td>\n",
       "    </tr>\n",
       "  </tbody>\n",
       "</table>\n",
       "</div>"
      ],
      "text/plain": [
       "   No.      Time             Source     Destination Protocol  Length  \\\n",
       "0    1  0.000000      Alfa_97:cf:63       Broadcast      ARP      42   \n",
       "1    2  0.002956  6e:c7:ec:3c:f2:ba   Alfa_97:cf:63      ARP      42   \n",
       "2    3  0.200725      Alfa_97:cf:63       Broadcast      ARP      42   \n",
       "3    4  0.202713     192.168.43.186    192.168.43.1      DNS      85   \n",
       "4    5  0.411565  6e:c7:ec:3c:f2:ba   Alfa_97:cf:63      ARP      42   \n",
       "5    6  0.431963       192.168.43.1  192.168.43.186      DNS     144   \n",
       "6    7  0.433064     192.168.43.186    192.168.43.1      TCP      58   \n",
       "7    8  0.433084     192.168.43.186    192.168.43.1      TCP      58   \n",
       "8    9  0.433089     192.168.43.186    192.168.43.1      TCP      58   \n",
       "9   10  0.433092     192.168.43.186    192.168.43.1      TCP      58   \n",
       "\n",
       "                                                Info    Type Type of attack  \n",
       "0          Who has 192.168.43.1? Tell 192.168.43.186  Attack   ARP Spoofing  \n",
       "1               192.168.43.1 is at 6e:c7:ec:3c:f2:ba  Attack   ARP Spoofing  \n",
       "2          Who has 192.168.43.1? Tell 192.168.43.186  Attack   ARP Spoofing  \n",
       "3  Standard query 0x0c44 PTR 1.43.168.192.in-addr...  Normal      No Attack  \n",
       "4               192.168.43.1 is at 6e:c7:ec:3c:f2:ba  Attack   ARP Spoofing  \n",
       "5  Standard query response 0x0c44 No such name PT...  Normal      No Attack  \n",
       "6  36954  >  1720 [SYN] Seq=0 Win=1024 Len=0 MSS=...  Normal      No Attack  \n",
       "7  36954  >  5900 [SYN] Seq=0 Win=1024 Len=0 MSS=...  Normal      No Attack  \n",
       "8  36954  >  135 [SYN] Seq=0 Win=1024 Len=0 MSS=1460  Normal      No Attack  \n",
       "9  36954  >  143 [SYN] Seq=0 Win=1024 Len=0 MSS=1460  Normal      No Attack  "
      ]
     },
     "execution_count": 83,
     "metadata": {},
     "output_type": "execute_result"
    }
   ],
   "source": [
    "df.head(10)"
   ]
  },
  {
   "cell_type": "code",
   "execution_count": 84,
   "metadata": {},
   "outputs": [],
   "source": [
    "df.columns\n",
    "df.drop('Info',inplace=True,axis=1)\n",
    "df.drop('No.',inplace=True,axis=1)"
   ]
  },
  {
   "cell_type": "code",
   "execution_count": 85,
   "metadata": {},
   "outputs": [
    {
     "data": {
      "text/html": [
       "<div>\n",
       "<style scoped>\n",
       "    .dataframe tbody tr th:only-of-type {\n",
       "        vertical-align: middle;\n",
       "    }\n",
       "\n",
       "    .dataframe tbody tr th {\n",
       "        vertical-align: top;\n",
       "    }\n",
       "\n",
       "    .dataframe thead th {\n",
       "        text-align: right;\n",
       "    }\n",
       "</style>\n",
       "<table border=\"1\" class=\"dataframe\">\n",
       "  <thead>\n",
       "    <tr style=\"text-align: right;\">\n",
       "      <th></th>\n",
       "      <th>Time</th>\n",
       "      <th>Source</th>\n",
       "      <th>Destination</th>\n",
       "      <th>Protocol</th>\n",
       "      <th>Length</th>\n",
       "      <th>Type</th>\n",
       "      <th>Type of attack</th>\n",
       "    </tr>\n",
       "  </thead>\n",
       "  <tbody>\n",
       "    <tr>\n",
       "      <th>0</th>\n",
       "      <td>0.000000</td>\n",
       "      <td>Alfa_97:cf:63</td>\n",
       "      <td>Broadcast</td>\n",
       "      <td>ARP</td>\n",
       "      <td>42</td>\n",
       "      <td>Attack</td>\n",
       "      <td>ARP Spoofing</td>\n",
       "    </tr>\n",
       "    <tr>\n",
       "      <th>1</th>\n",
       "      <td>0.002956</td>\n",
       "      <td>6e:c7:ec:3c:f2:ba</td>\n",
       "      <td>Alfa_97:cf:63</td>\n",
       "      <td>ARP</td>\n",
       "      <td>42</td>\n",
       "      <td>Attack</td>\n",
       "      <td>ARP Spoofing</td>\n",
       "    </tr>\n",
       "    <tr>\n",
       "      <th>2</th>\n",
       "      <td>0.200725</td>\n",
       "      <td>Alfa_97:cf:63</td>\n",
       "      <td>Broadcast</td>\n",
       "      <td>ARP</td>\n",
       "      <td>42</td>\n",
       "      <td>Attack</td>\n",
       "      <td>ARP Spoofing</td>\n",
       "    </tr>\n",
       "    <tr>\n",
       "      <th>3</th>\n",
       "      <td>0.202713</td>\n",
       "      <td>192.168.43.186</td>\n",
       "      <td>192.168.43.1</td>\n",
       "      <td>DNS</td>\n",
       "      <td>85</td>\n",
       "      <td>Normal</td>\n",
       "      <td>No Attack</td>\n",
       "    </tr>\n",
       "    <tr>\n",
       "      <th>4</th>\n",
       "      <td>0.411565</td>\n",
       "      <td>6e:c7:ec:3c:f2:ba</td>\n",
       "      <td>Alfa_97:cf:63</td>\n",
       "      <td>ARP</td>\n",
       "      <td>42</td>\n",
       "      <td>Attack</td>\n",
       "      <td>ARP Spoofing</td>\n",
       "    </tr>\n",
       "  </tbody>\n",
       "</table>\n",
       "</div>"
      ],
      "text/plain": [
       "       Time             Source    Destination Protocol  Length    Type  \\\n",
       "0  0.000000      Alfa_97:cf:63      Broadcast      ARP      42  Attack   \n",
       "1  0.002956  6e:c7:ec:3c:f2:ba  Alfa_97:cf:63      ARP      42  Attack   \n",
       "2  0.200725      Alfa_97:cf:63      Broadcast      ARP      42  Attack   \n",
       "3  0.202713     192.168.43.186   192.168.43.1      DNS      85  Normal   \n",
       "4  0.411565  6e:c7:ec:3c:f2:ba  Alfa_97:cf:63      ARP      42  Attack   \n",
       "\n",
       "  Type of attack  \n",
       "0   ARP Spoofing  \n",
       "1   ARP Spoofing  \n",
       "2   ARP Spoofing  \n",
       "3      No Attack  \n",
       "4   ARP Spoofing  "
      ]
     },
     "execution_count": 85,
     "metadata": {},
     "output_type": "execute_result"
    }
   ],
   "source": [
    "df.head()"
   ]
  },
  {
   "cell_type": "code",
   "execution_count": 86,
   "metadata": {},
   "outputs": [
    {
     "name": "stdout",
     "output_type": "stream",
     "text": [
      "0 ARP\n",
      "1 DNS\n",
      "2 TCP\n",
      "3 LLC\n",
      "4 ICMP\n",
      "5 UDP\n",
      "6 DHCP\n",
      "7 TLSv1.1\n",
      "8 HTTP\n",
      "9 TLSv1.2\n",
      "10 OCSP\n"
     ]
    }
   ],
   "source": [
    "for i,j in enumerate(df['Protocol'].unique()):\n",
    "    print(i,j)"
   ]
  },
  {
   "cell_type": "code",
   "execution_count": 87,
   "metadata": {},
   "outputs": [
    {
     "name": "stdout",
     "output_type": "stream",
     "text": [
      "0 Attack\n",
      "1 Normal\n"
     ]
    }
   ],
   "source": [
    "for i,j in enumerate(df['Type'].unique()):\n",
    "    print(i,j)"
   ]
  },
  {
   "cell_type": "code",
   "execution_count": 88,
   "metadata": {},
   "outputs": [
    {
     "name": "stdout",
     "output_type": "stream",
     "text": [
      "0 ARP Spoofing\n",
      "1 No Attack\n",
      "2 Nmap Port Scan\n",
      "3 Smurf Attack\n",
      "4 DoS Attack\n"
     ]
    }
   ],
   "source": [
    "\n",
    "l= enumerate(df['Type of attack'].unique())\n",
    "for i,j in l:\n",
    "    print(i,j)"
   ]
  },
  {
   "cell_type": "code",
   "execution_count": 89,
   "metadata": {},
   "outputs": [],
   "source": [
    "#clean type\n",
    "for i,j in enumerate(df['Type'].unique()):\n",
    "    df['Type'].replace(to_replace=j,value=i,inplace=True)\n",
    "\n",
    "#clean type of attack\n",
    "for i,j in enumerate(df['Type of attack'].unique()):\n",
    "    df['Type of attack'].replace(to_replace=j,value=i,inplace=True)\n",
    "\n",
    "#clean protocol\n",
    "for i,j in enumerate(df['Protocol'].unique()):\n",
    "    df['Protocol'].replace(to_replace=j,value=i,inplace=True)\n",
    "\n",
    "#clean destination\n",
    "for i,j in enumerate(df['Destination'].unique()):\n",
    "    df['Destination'].replace(to_replace=j,value=i,inplace=True)\n",
    "\n",
    "#clean Source\n",
    "for i,j in enumerate(df['Source'].unique()):\n",
    "    df['Source'].replace(to_replace=j,value=i,inplace=True)\n",
    "    \n",
    "\n"
   ]
  },
  {
   "cell_type": "code",
   "execution_count": 90,
   "metadata": {},
   "outputs": [
    {
     "data": {
      "text/html": [
       "<div>\n",
       "<style scoped>\n",
       "    .dataframe tbody tr th:only-of-type {\n",
       "        vertical-align: middle;\n",
       "    }\n",
       "\n",
       "    .dataframe tbody tr th {\n",
       "        vertical-align: top;\n",
       "    }\n",
       "\n",
       "    .dataframe thead th {\n",
       "        text-align: right;\n",
       "    }\n",
       "</style>\n",
       "<table border=\"1\" class=\"dataframe\">\n",
       "  <thead>\n",
       "    <tr style=\"text-align: right;\">\n",
       "      <th></th>\n",
       "      <th>Time</th>\n",
       "      <th>Source</th>\n",
       "      <th>Destination</th>\n",
       "      <th>Protocol</th>\n",
       "      <th>Length</th>\n",
       "      <th>Type</th>\n",
       "      <th>Type of attack</th>\n",
       "    </tr>\n",
       "  </thead>\n",
       "  <tbody>\n",
       "    <tr>\n",
       "      <th>0</th>\n",
       "      <td>0.000000</td>\n",
       "      <td>0</td>\n",
       "      <td>0</td>\n",
       "      <td>0</td>\n",
       "      <td>42</td>\n",
       "      <td>0</td>\n",
       "      <td>0</td>\n",
       "    </tr>\n",
       "    <tr>\n",
       "      <th>1</th>\n",
       "      <td>0.002956</td>\n",
       "      <td>1</td>\n",
       "      <td>1</td>\n",
       "      <td>0</td>\n",
       "      <td>42</td>\n",
       "      <td>0</td>\n",
       "      <td>0</td>\n",
       "    </tr>\n",
       "    <tr>\n",
       "      <th>2</th>\n",
       "      <td>0.200725</td>\n",
       "      <td>0</td>\n",
       "      <td>0</td>\n",
       "      <td>0</td>\n",
       "      <td>42</td>\n",
       "      <td>0</td>\n",
       "      <td>0</td>\n",
       "    </tr>\n",
       "    <tr>\n",
       "      <th>3</th>\n",
       "      <td>0.202713</td>\n",
       "      <td>2</td>\n",
       "      <td>2</td>\n",
       "      <td>1</td>\n",
       "      <td>85</td>\n",
       "      <td>1</td>\n",
       "      <td>1</td>\n",
       "    </tr>\n",
       "    <tr>\n",
       "      <th>4</th>\n",
       "      <td>0.411565</td>\n",
       "      <td>1</td>\n",
       "      <td>1</td>\n",
       "      <td>0</td>\n",
       "      <td>42</td>\n",
       "      <td>0</td>\n",
       "      <td>0</td>\n",
       "    </tr>\n",
       "  </tbody>\n",
       "</table>\n",
       "</div>"
      ],
      "text/plain": [
       "       Time  Source  Destination  Protocol  Length  Type  Type of attack\n",
       "0  0.000000       0            0         0      42     0               0\n",
       "1  0.002956       1            1         0      42     0               0\n",
       "2  0.200725       0            0         0      42     0               0\n",
       "3  0.202713       2            2         1      85     1               1\n",
       "4  0.411565       1            1         0      42     0               0"
      ]
     },
     "execution_count": 90,
     "metadata": {},
     "output_type": "execute_result"
    }
   ],
   "source": [
    "df.head()"
   ]
  },
  {
   "cell_type": "code",
   "execution_count": 91,
   "metadata": {},
   "outputs": [
    {
     "data": {
      "text/plain": [
       "(111207, 7)"
      ]
     },
     "execution_count": 91,
     "metadata": {},
     "output_type": "execute_result"
    }
   ],
   "source": [
    "df.shape"
   ]
  },
  {
   "cell_type": "code",
   "execution_count": 92,
   "metadata": {},
   "outputs": [
    {
     "data": {
      "text/plain": [
       "Time              0\n",
       "Source            0\n",
       "Destination       0\n",
       "Protocol          0\n",
       "Length            0\n",
       "Type              0\n",
       "Type of attack    0\n",
       "dtype: int64"
      ]
     },
     "execution_count": 92,
     "metadata": {},
     "output_type": "execute_result"
    }
   ],
   "source": [
    "df.isnull().sum()"
   ]
  },
  {
   "cell_type": "code",
   "execution_count": 93,
   "metadata": {},
   "outputs": [
    {
     "name": "stdout",
     "output_type": "stream",
     "text": [
      "<class 'pandas.core.frame.DataFrame'>\n",
      "RangeIndex: 111207 entries, 0 to 111206\n",
      "Data columns (total 7 columns):\n",
      " #   Column          Non-Null Count   Dtype  \n",
      "---  ------          --------------   -----  \n",
      " 0   Time            111207 non-null  float64\n",
      " 1   Source          111207 non-null  int64  \n",
      " 2   Destination     111207 non-null  int64  \n",
      " 3   Protocol        111207 non-null  int64  \n",
      " 4   Length          111207 non-null  int64  \n",
      " 5   Type            111207 non-null  int64  \n",
      " 6   Type of attack  111207 non-null  int64  \n",
      "dtypes: float64(1), int64(6)\n",
      "memory usage: 5.9 MB\n"
     ]
    }
   ],
   "source": [
    "df.info()"
   ]
  },
  {
   "cell_type": "code",
   "execution_count": 106,
   "metadata": {},
   "outputs": [
    {
     "data": {
      "text/plain": [
       "<AxesSubplot: >"
      ]
     },
     "execution_count": 106,
     "metadata": {},
     "output_type": "execute_result"
    },
    {
     "data": {
      "image/png": "[encoded data removed]",
      "text/plain": [
       "<Figure size 640x480 with 2 Axes>"
      ]
     },
     "metadata": {},
     "output_type": "display_data"
    }
   ],
   "source": [
    "sns.heatmap(df.corr(),annot=True)"
   ]
  },
  {
   "cell_type": "code",
   "execution_count": 95,
   "metadata": {},
   "outputs": [
    {
     "data": {
      "text/html": [
       "<div>\n",
       "<style scoped>\n",
       "    .dataframe tbody tr th:only-of-type {\n",
       "        vertical-align: middle;\n",
       "    }\n",
       "\n",
       "    .dataframe tbody tr th {\n",
       "        vertical-align: top;\n",
       "    }\n",
       "\n",
       "    .dataframe thead th {\n",
       "        text-align: right;\n",
       "    }\n",
       "</style>\n",
       "<table border=\"1\" class=\"dataframe\">\n",
       "  <thead>\n",
       "    <tr style=\"text-align: right;\">\n",
       "      <th></th>\n",
       "      <th>Time</th>\n",
       "      <th>Source</th>\n",
       "      <th>Destination</th>\n",
       "      <th>Protocol</th>\n",
       "      <th>Length</th>\n",
       "      <th>Type</th>\n",
       "      <th>Type of attack</th>\n",
       "    </tr>\n",
       "  </thead>\n",
       "  <tbody>\n",
       "    <tr>\n",
       "      <th>count</th>\n",
       "      <td>111207.000000</td>\n",
       "      <td>111207.000000</td>\n",
       "      <td>111207.000000</td>\n",
       "      <td>111207.000000</td>\n",
       "      <td>111207.000000</td>\n",
       "      <td>111207.000000</td>\n",
       "      <td>111207.000000</td>\n",
       "    </tr>\n",
       "    <tr>\n",
       "      <th>mean</th>\n",
       "      <td>6117.077210</td>\n",
       "      <td>5.952305</td>\n",
       "      <td>3.737472</td>\n",
       "      <td>3.735403</td>\n",
       "      <td>112.661091</td>\n",
       "      <td>0.210895</td>\n",
       "      <td>2.458847</td>\n",
       "    </tr>\n",
       "    <tr>\n",
       "      <th>std</th>\n",
       "      <td>2337.342593</td>\n",
       "      <td>6.924383</td>\n",
       "      <td>7.198467</td>\n",
       "      <td>1.610654</td>\n",
       "      <td>287.895879</td>\n",
       "      <td>0.407946</td>\n",
       "      <td>0.899373</td>\n",
       "    </tr>\n",
       "    <tr>\n",
       "      <th>min</th>\n",
       "      <td>0.000000</td>\n",
       "      <td>0.000000</td>\n",
       "      <td>0.000000</td>\n",
       "      <td>0.000000</td>\n",
       "      <td>42.000000</td>\n",
       "      <td>0.000000</td>\n",
       "      <td>0.000000</td>\n",
       "    </tr>\n",
       "    <tr>\n",
       "      <th>25%</th>\n",
       "      <td>6178.693881</td>\n",
       "      <td>5.000000</td>\n",
       "      <td>2.000000</td>\n",
       "      <td>4.000000</td>\n",
       "      <td>42.000000</td>\n",
       "      <td>0.000000</td>\n",
       "      <td>2.000000</td>\n",
       "    </tr>\n",
       "    <tr>\n",
       "      <th>50%</th>\n",
       "      <td>6745.549357</td>\n",
       "      <td>5.000000</td>\n",
       "      <td>2.000000</td>\n",
       "      <td>4.000000</td>\n",
       "      <td>42.000000</td>\n",
       "      <td>0.000000</td>\n",
       "      <td>3.000000</td>\n",
       "    </tr>\n",
       "    <tr>\n",
       "      <th>75%</th>\n",
       "      <td>7311.923211</td>\n",
       "      <td>5.000000</td>\n",
       "      <td>2.000000</td>\n",
       "      <td>4.000000</td>\n",
       "      <td>54.000000</td>\n",
       "      <td>0.000000</td>\n",
       "      <td>3.000000</td>\n",
       "    </tr>\n",
       "    <tr>\n",
       "      <th>max</th>\n",
       "      <td>10109.390320</td>\n",
       "      <td>68.000000</td>\n",
       "      <td>70.000000</td>\n",
       "      <td>10.000000</td>\n",
       "      <td>1474.000000</td>\n",
       "      <td>1.000000</td>\n",
       "      <td>4.000000</td>\n",
       "    </tr>\n",
       "  </tbody>\n",
       "</table>\n",
       "</div>"
      ],
      "text/plain": [
       "                Time         Source    Destination       Protocol  \\\n",
       "count  111207.000000  111207.000000  111207.000000  111207.000000   \n",
       "mean     6117.077210       5.952305       3.737472       3.735403   \n",
       "std      2337.342593       6.924383       7.198467       1.610654   \n",
       "min         0.000000       0.000000       0.000000       0.000000   \n",
       "25%      6178.693881       5.000000       2.000000       4.000000   \n",
       "50%      6745.549357       5.000000       2.000000       4.000000   \n",
       "75%      7311.923211       5.000000       2.000000       4.000000   \n",
       "max     10109.390320      68.000000      70.000000      10.000000   \n",
       "\n",
       "              Length           Type  Type of attack  \n",
       "count  111207.000000  111207.000000   111207.000000  \n",
       "mean      112.661091       0.210895        2.458847  \n",
       "std       287.895879       0.407946        0.899373  \n",
       "min        42.000000       0.000000        0.000000  \n",
       "25%        42.000000       0.000000        2.000000  \n",
       "50%        42.000000       0.000000        3.000000  \n",
       "75%        54.000000       0.000000        3.000000  \n",
       "max      1474.000000       1.000000        4.000000  "
      ]
     },
     "execution_count": 95,
     "metadata": {},
     "output_type": "execute_result"
    }
   ],
   "source": [
    "df.describe()"
   ]
  },
  {
   "cell_type": "code",
   "execution_count": 96,
   "metadata": {},
   "outputs": [],
   "source": [
    "#df.to_csv('Cleaned_dataset.csv')"
   ]
  },
  {
   "cell_type": "markdown",
   "metadata": {},
   "source": [
    "# CLASS IMBALANCE"
   ]
  },
  {
   "cell_type": "code",
   "execution_count": 97,
   "metadata": {},
   "outputs": [],
   "source": [
    "cdf=pd.read_csv('./Cleaned_dataset.csv')"
   ]
  },
  {
   "cell_type": "code",
   "execution_count": 98,
   "metadata": {},
   "outputs": [],
   "source": [
    "cdf.drop('Unnamed: 0',axis=1,inplace=True)"
   ]
  },
  {
   "cell_type": "code",
   "execution_count": 99,
   "metadata": {},
   "outputs": [
    {
     "data": {
      "text/html": [
       "<div>\n",
       "<style scoped>\n",
       "    .dataframe tbody tr th:only-of-type {\n",
       "        vertical-align: middle;\n",
       "    }\n",
       "\n",
       "    .dataframe tbody tr th {\n",
       "        vertical-align: top;\n",
       "    }\n",
       "\n",
       "    .dataframe thead th {\n",
       "        text-align: right;\n",
       "    }\n",
       "</style>\n",
       "<table border=\"1\" class=\"dataframe\">\n",
       "  <thead>\n",
       "    <tr style=\"text-align: right;\">\n",
       "      <th></th>\n",
       "      <th>Time</th>\n",
       "      <th>Source</th>\n",
       "      <th>Destination</th>\n",
       "      <th>Protocol</th>\n",
       "      <th>Length</th>\n",
       "      <th>Type</th>\n",
       "      <th>Type of attack</th>\n",
       "    </tr>\n",
       "  </thead>\n",
       "  <tbody>\n",
       "    <tr>\n",
       "      <th>0</th>\n",
       "      <td>0.000000</td>\n",
       "      <td>0</td>\n",
       "      <td>0</td>\n",
       "      <td>0</td>\n",
       "      <td>42</td>\n",
       "      <td>0</td>\n",
       "      <td>0</td>\n",
       "    </tr>\n",
       "    <tr>\n",
       "      <th>1</th>\n",
       "      <td>0.002956</td>\n",
       "      <td>1</td>\n",
       "      <td>1</td>\n",
       "      <td>0</td>\n",
       "      <td>42</td>\n",
       "      <td>0</td>\n",
       "      <td>0</td>\n",
       "    </tr>\n",
       "    <tr>\n",
       "      <th>2</th>\n",
       "      <td>0.200725</td>\n",
       "      <td>0</td>\n",
       "      <td>0</td>\n",
       "      <td>0</td>\n",
       "      <td>42</td>\n",
       "      <td>0</td>\n",
       "      <td>0</td>\n",
       "    </tr>\n",
       "    <tr>\n",
       "      <th>3</th>\n",
       "      <td>0.202713</td>\n",
       "      <td>2</td>\n",
       "      <td>2</td>\n",
       "      <td>1</td>\n",
       "      <td>85</td>\n",
       "      <td>1</td>\n",
       "      <td>1</td>\n",
       "    </tr>\n",
       "    <tr>\n",
       "      <th>4</th>\n",
       "      <td>0.411565</td>\n",
       "      <td>1</td>\n",
       "      <td>1</td>\n",
       "      <td>0</td>\n",
       "      <td>42</td>\n",
       "      <td>0</td>\n",
       "      <td>0</td>\n",
       "    </tr>\n",
       "  </tbody>\n",
       "</table>\n",
       "</div>"
      ],
      "text/plain": [
       "       Time  Source  Destination  Protocol  Length  Type  Type of attack\n",
       "0  0.000000       0            0         0      42     0               0\n",
       "1  0.002956       1            1         0      42     0               0\n",
       "2  0.200725       0            0         0      42     0               0\n",
       "3  0.202713       2            2         1      85     1               1\n",
       "4  0.411565       1            1         0      42     0               0"
      ]
     },
     "execution_count": 99,
     "metadata": {},
     "output_type": "execute_result"
    }
   ],
   "source": [
    "cdf.head()"
   ]
  },
  {
   "cell_type": "code",
   "execution_count": 102,
   "metadata": {},
   "outputs": [
    {
     "data": {
      "text/plain": [
       "[87754, 23453]"
      ]
     },
     "execution_count": 102,
     "metadata": {},
     "output_type": "execute_result"
    }
   ],
   "source": [
    "def cnt(i):\n",
    "    a=cdf['Type'].isin([i]).sum()\n",
    "    return a\n",
    "\n",
    "l=map(cnt,sorted(cdf['Type of attack'].unique()))\n",
    "list(l)\n",
    "ll=map(cnt,sorted(cdf['Type'].unique()))\n",
    "list(ll)\n"
   ]
  },
  {
   "cell_type": "code",
   "execution_count": 101,
   "metadata": {},
   "outputs": [
    {
     "data": {
      "text/plain": [
       "<BarContainer object of 5 artists>"
      ]
     },
     "execution_count": 101,
     "metadata": {},
     "output_type": "execute_result"
    },
    {
     "data": {
      "image/png": "[encoded data removed]",
      "text/plain": [
       "<Figure size 640x480 with 1 Axes>"
      ]
     },
     "metadata": {},
     "output_type": "display_data"
    }
   ],
   "source": [
    "plt.bar(['ARP Spoofing','No Attack','Nmap Port Scan','Smurf','DoS'],[23453, 6836, 2359, 77920, 639])"
   ]
  },
  {
   "cell_type": "code",
   "execution_count": 105,
   "metadata": {},
   "outputs": [
    {
     "data": {
      "text/plain": [
       "<BarContainer object of 2 artists>"
      ]
     },
     "execution_count": 105,
     "metadata": {},
     "output_type": "execute_result"
    },
    {
     "data": {
      "image/png": "[encoded data removed]",
      "text/plain": [
       "<Figure size 640x480 with 1 Axes>"
      ]
     },
     "metadata": {},
     "output_type": "display_data"
    }
   ],
   "source": [
    "plt.bar(['Attack','Normal'],[87754, 23453],color='r')"
   ]
  }
 ],
 "metadata": {
  "kernelspec": {
   "display_name": "Python 3.8.9 64-bit",
   "language": "python",
   "name": "python3"
  },
  "language_info": {
   "codemirror_mode": {
    "name": "ipython",
    "version": 3
   },
   "file_extension": ".py",
   "mimetype": "text/x-python",
   "name": "python",
   "nbconvert_exporter": "python",
   "pygments_lexer": "ipython3",
   "version": "3.8.9"
  },
  "orig_nbformat": 4,
  "vscode": {
   "interpreter": {
    "hash": "31f2aee4e71d21fbe5cf8b01ff0e069b9275f58929596ceb00d14d90e3e16cd6"
   }
  }
 },
 "nbformat": 4,
 "nbformat_minor": 2
}
